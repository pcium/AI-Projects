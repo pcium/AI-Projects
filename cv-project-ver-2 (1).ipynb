{
 "cells": [
  {
   "cell_type": "markdown",
   "id": "c6836be7",
   "metadata": {
    "papermill": {
     "duration": 0.028096,
     "end_time": "2021-09-24T23:38:55.994483",
     "exception": false,
     "start_time": "2021-09-24T23:38:55.966387",
     "status": "completed"
    },
    "tags": []
   },
   "source": [
    "## Kaggle 개발환경에서 재생하기"
   ]
  },
  {
   "cell_type": "code",
   "execution_count": 1,
   "id": "8bb86217",
   "metadata": {
    "_cell_guid": "b1076dfc-b9ad-4769-8c92-a6c4dae69d19",
    "_uuid": "8f2839f25d086af736a60e9eeb907d3b93b6e0e5",
    "execution": {
     "iopub.execute_input": "2021-09-24T23:38:56.053606Z",
     "iopub.status.busy": "2021-09-24T23:38:56.052120Z",
     "iopub.status.idle": "2021-09-24T23:39:05.945055Z",
     "shell.execute_reply": "2021-09-24T23:39:05.945827Z",
     "shell.execute_reply.started": "2021-09-24T23:32:16.212565Z"
    },
    "papermill": {
     "duration": 9.924914,
     "end_time": "2021-09-24T23:39:05.946198",
     "exception": false,
     "start_time": "2021-09-24T23:38:56.021284",
     "status": "completed"
    },
    "tags": []
   },
   "outputs": [
    {
     "name": "stdout",
     "output_type": "stream",
     "text": [
      "Collecting keras\r\n",
      "  Downloading keras-2.6.0-py2.py3-none-any.whl (1.3 MB)\r\n",
      "\u001b[K     |████████████████████████████████| 1.3 MB 824 kB/s \r\n",
      "\u001b[?25hInstalling collected packages: keras\r\n",
      "Successfully installed keras-2.6.0\r\n",
      "\u001b[33mWARNING: Running pip as the 'root' user can result in broken permissions and conflicting behaviour with the system package manager. It is recommended to use a virtual environment instead: https://pip.pypa.io/warnings/venv\u001b[0m\r\n",
      "/kaggle/input/cv-test/submission.csv\n",
      "/kaggle/input/cv-test/train.csv\n",
      "/kaggle/input/cv-test/test.csv\n",
      "/kaggle/input/model1/model1.csv\n"
     ]
    }
   ],
   "source": [
    "!pip install keras\n",
    "import os\n",
    "for dirname, _, filenames in os.walk('/kaggle/input'):\n",
    "    for filename in filenames:\n",
    "        print(os.path.join(dirname, filename))"
   ]
  },
  {
   "cell_type": "markdown",
   "id": "252c4861",
   "metadata": {
    "papermill": {
     "duration": 0.03164,
     "end_time": "2021-09-24T23:39:06.011895",
     "exception": false,
     "start_time": "2021-09-24T23:39:05.980255",
     "status": "completed"
    },
    "tags": []
   },
   "source": [
    "위 코드는 kaggle에서 노트북을 돌릴 시 필요한 과정이다"
   ]
  },
  {
   "cell_type": "markdown",
   "id": "84e08cfd",
   "metadata": {
    "papermill": {
     "duration": 0.030332,
     "end_time": "2021-09-24T23:39:06.073212",
     "exception": false,
     "start_time": "2021-09-24T23:39:06.042880",
     "status": "completed"
    },
    "tags": []
   },
   "source": [
    "## Python Import"
   ]
  },
  {
   "cell_type": "code",
   "execution_count": 2,
   "id": "899fa32d",
   "metadata": {
    "execution": {
     "iopub.execute_input": "2021-09-24T23:39:06.142677Z",
     "iopub.status.busy": "2021-09-24T23:39:06.142133Z",
     "iopub.status.idle": "2021-09-24T23:39:11.494113Z",
     "shell.execute_reply": "2021-09-24T23:39:11.493218Z",
     "shell.execute_reply.started": "2021-09-24T23:32:23.458275Z"
    },
    "papermill": {
     "duration": 5.39093,
     "end_time": "2021-09-24T23:39:11.494262",
     "exception": false,
     "start_time": "2021-09-24T23:39:06.103332",
     "status": "completed"
    },
    "tags": []
   },
   "outputs": [
    {
     "name": "stderr",
     "output_type": "stream",
     "text": [
      "2021-09-24 23:39:07.477681: I tensorflow/stream_executor/platform/default/dso_loader.cc:49] Successfully opened dynamic library libcudart.so.11.0\n"
     ]
    }
   ],
   "source": [
    "# Import Necessary Libraries from Python\n",
    "import warnings\n",
    "warnings.filterwarnings(\"ignore\")\n",
    "\n",
    "## Basic Import ##\n",
    "import pandas as pd\n",
    "import numpy as np\n",
    "import sklearn\n",
    "import os\n",
    "\n",
    "# Visualization\n",
    "import matplotlib.pyplot as plt\n",
    "import seaborn as sns\n",
    "\n",
    "## Tensorflow ## \n",
    "import tensorflow as tf\n",
    "from tensorflow import keras\n",
    "import tensorflow.keras.backend as K\n",
    "from tensorflow.keras.utils import to_categorical\n",
    "from tensorflow.keras.preprocessing.image import ImageDataGenerator,load_img,img_to_array # Image Related\n",
    "\n",
    "# Preprocessing\n",
    "from tensorflow.keras.preprocessing.image import ImageDataGenerator\n",
    "from sklearn.model_selection import train_test_split\n",
    "from tensorflow.keras.preprocessing import image\n",
    "\n",
    "# Modelling\n",
    "from tensorflow.keras import Sequential\n",
    "from tensorflow.keras.layers import *\n",
    "from tensorflow.keras.callbacks import LearningRateScheduler\n",
    "from tensorflow.keras.layers import Dense, Activation, Flatten, Conv2D, MaxPooling2D, Dropout\n",
    "from tensorflow.keras import regularizers\n",
    "from tensorflow.keras import layers\n",
    "from tensorflow.keras.models import Sequential\n",
    "from tensorflow.keras import datasets, layers, models, losses, Model\n",
    "from tensorflow.keras import optimizers"
   ]
  },
  {
   "cell_type": "markdown",
   "id": "a859a1c6",
   "metadata": {
    "papermill": {
     "duration": 0.030782,
     "end_time": "2021-09-24T23:39:11.556099",
     "exception": false,
     "start_time": "2021-09-24T23:39:11.525317",
     "status": "completed"
    },
    "tags": []
   },
   "source": [
    "## Call Dataset"
   ]
  },
  {
   "cell_type": "code",
   "execution_count": 3,
   "id": "76df9afd",
   "metadata": {
    "execution": {
     "iopub.execute_input": "2021-09-24T23:39:11.621246Z",
     "iopub.status.busy": "2021-09-24T23:39:11.620717Z",
     "iopub.status.idle": "2021-09-24T23:39:13.728130Z",
     "shell.execute_reply": "2021-09-24T23:39:13.727584Z",
     "shell.execute_reply.started": "2021-09-24T23:32:23.471318Z"
    },
    "papermill": {
     "duration": 2.141908,
     "end_time": "2021-09-24T23:39:13.728256",
     "exception": false,
     "start_time": "2021-09-24T23:39:11.586348",
     "status": "completed"
    },
    "tags": []
   },
   "outputs": [],
   "source": [
    "root = '/kaggle/input/cv-test/'\n",
    "train = pd.read_csv(root+'/train.csv')\n",
    "test = pd.read_csv(root+'/test.csv')\n",
    "submission = pd.read_csv(root+'/submission.csv')"
   ]
  },
  {
   "cell_type": "code",
   "execution_count": 4,
   "id": "302b5331",
   "metadata": {
    "execution": {
     "iopub.execute_input": "2021-09-24T23:39:13.798669Z",
     "iopub.status.busy": "2021-09-24T23:39:13.791882Z",
     "iopub.status.idle": "2021-09-24T23:39:13.824652Z",
     "shell.execute_reply": "2021-09-24T23:39:13.825171Z",
     "shell.execute_reply.started": "2021-09-24T23:32:24.860702Z"
    },
    "papermill": {
     "duration": 0.067075,
     "end_time": "2021-09-24T23:39:13.825338",
     "exception": false,
     "start_time": "2021-09-24T23:39:13.758263",
     "status": "completed"
    },
    "tags": []
   },
   "outputs": [
    {
     "name": "stdout",
     "output_type": "stream",
     "text": [
      "데이터의 형태(행, 열): (2048, 787)\n"
     ]
    },
    {
     "data": {
      "text/html": [
       "<div>\n",
       "<style scoped>\n",
       "    .dataframe tbody tr th:only-of-type {\n",
       "        vertical-align: middle;\n",
       "    }\n",
       "\n",
       "    .dataframe tbody tr th {\n",
       "        vertical-align: top;\n",
       "    }\n",
       "\n",
       "    .dataframe thead th {\n",
       "        text-align: right;\n",
       "    }\n",
       "</style>\n",
       "<table border=\"1\" class=\"dataframe\">\n",
       "  <thead>\n",
       "    <tr style=\"text-align: right;\">\n",
       "      <th></th>\n",
       "      <th>id</th>\n",
       "      <th>digit</th>\n",
       "      <th>letter</th>\n",
       "      <th>0</th>\n",
       "      <th>1</th>\n",
       "      <th>2</th>\n",
       "      <th>3</th>\n",
       "      <th>4</th>\n",
       "      <th>5</th>\n",
       "      <th>6</th>\n",
       "      <th>...</th>\n",
       "      <th>774</th>\n",
       "      <th>775</th>\n",
       "      <th>776</th>\n",
       "      <th>777</th>\n",
       "      <th>778</th>\n",
       "      <th>779</th>\n",
       "      <th>780</th>\n",
       "      <th>781</th>\n",
       "      <th>782</th>\n",
       "      <th>783</th>\n",
       "    </tr>\n",
       "  </thead>\n",
       "  <tbody>\n",
       "    <tr>\n",
       "      <th>0</th>\n",
       "      <td>1</td>\n",
       "      <td>5</td>\n",
       "      <td>L</td>\n",
       "      <td>1</td>\n",
       "      <td>1</td>\n",
       "      <td>1</td>\n",
       "      <td>4</td>\n",
       "      <td>3</td>\n",
       "      <td>0</td>\n",
       "      <td>0</td>\n",
       "      <td>...</td>\n",
       "      <td>2</td>\n",
       "      <td>1</td>\n",
       "      <td>0</td>\n",
       "      <td>1</td>\n",
       "      <td>2</td>\n",
       "      <td>4</td>\n",
       "      <td>4</td>\n",
       "      <td>4</td>\n",
       "      <td>3</td>\n",
       "      <td>4</td>\n",
       "    </tr>\n",
       "    <tr>\n",
       "      <th>1</th>\n",
       "      <td>2</td>\n",
       "      <td>0</td>\n",
       "      <td>B</td>\n",
       "      <td>0</td>\n",
       "      <td>4</td>\n",
       "      <td>0</td>\n",
       "      <td>0</td>\n",
       "      <td>4</td>\n",
       "      <td>1</td>\n",
       "      <td>1</td>\n",
       "      <td>...</td>\n",
       "      <td>0</td>\n",
       "      <td>3</td>\n",
       "      <td>0</td>\n",
       "      <td>1</td>\n",
       "      <td>4</td>\n",
       "      <td>1</td>\n",
       "      <td>4</td>\n",
       "      <td>2</td>\n",
       "      <td>1</td>\n",
       "      <td>2</td>\n",
       "    </tr>\n",
       "    <tr>\n",
       "      <th>2</th>\n",
       "      <td>3</td>\n",
       "      <td>4</td>\n",
       "      <td>L</td>\n",
       "      <td>1</td>\n",
       "      <td>1</td>\n",
       "      <td>2</td>\n",
       "      <td>2</td>\n",
       "      <td>1</td>\n",
       "      <td>1</td>\n",
       "      <td>1</td>\n",
       "      <td>...</td>\n",
       "      <td>3</td>\n",
       "      <td>3</td>\n",
       "      <td>3</td>\n",
       "      <td>0</td>\n",
       "      <td>2</td>\n",
       "      <td>0</td>\n",
       "      <td>3</td>\n",
       "      <td>0</td>\n",
       "      <td>2</td>\n",
       "      <td>2</td>\n",
       "    </tr>\n",
       "    <tr>\n",
       "      <th>3</th>\n",
       "      <td>4</td>\n",
       "      <td>9</td>\n",
       "      <td>D</td>\n",
       "      <td>1</td>\n",
       "      <td>2</td>\n",
       "      <td>0</td>\n",
       "      <td>2</td>\n",
       "      <td>0</td>\n",
       "      <td>4</td>\n",
       "      <td>0</td>\n",
       "      <td>...</td>\n",
       "      <td>3</td>\n",
       "      <td>3</td>\n",
       "      <td>2</td>\n",
       "      <td>0</td>\n",
       "      <td>1</td>\n",
       "      <td>4</td>\n",
       "      <td>0</td>\n",
       "      <td>0</td>\n",
       "      <td>1</td>\n",
       "      <td>1</td>\n",
       "    </tr>\n",
       "    <tr>\n",
       "      <th>4</th>\n",
       "      <td>5</td>\n",
       "      <td>6</td>\n",
       "      <td>A</td>\n",
       "      <td>3</td>\n",
       "      <td>0</td>\n",
       "      <td>2</td>\n",
       "      <td>4</td>\n",
       "      <td>0</td>\n",
       "      <td>3</td>\n",
       "      <td>0</td>\n",
       "      <td>...</td>\n",
       "      <td>4</td>\n",
       "      <td>4</td>\n",
       "      <td>3</td>\n",
       "      <td>2</td>\n",
       "      <td>1</td>\n",
       "      <td>3</td>\n",
       "      <td>4</td>\n",
       "      <td>3</td>\n",
       "      <td>1</td>\n",
       "      <td>2</td>\n",
       "    </tr>\n",
       "  </tbody>\n",
       "</table>\n",
       "<p>5 rows × 787 columns</p>\n",
       "</div>"
      ],
      "text/plain": [
       "   id  digit letter  0  1  2  3  4  5  6  ...  774  775  776  777  778  779  \\\n",
       "0   1      5      L  1  1  1  4  3  0  0  ...    2    1    0    1    2    4   \n",
       "1   2      0      B  0  4  0  0  4  1  1  ...    0    3    0    1    4    1   \n",
       "2   3      4      L  1  1  2  2  1  1  1  ...    3    3    3    0    2    0   \n",
       "3   4      9      D  1  2  0  2  0  4  0  ...    3    3    2    0    1    4   \n",
       "4   5      6      A  3  0  2  4  0  3  0  ...    4    4    3    2    1    3   \n",
       "\n",
       "   780  781  782  783  \n",
       "0    4    4    3    4  \n",
       "1    4    2    1    2  \n",
       "2    3    0    2    2  \n",
       "3    0    0    1    1  \n",
       "4    4    3    1    2  \n",
       "\n",
       "[5 rows x 787 columns]"
      ]
     },
     "execution_count": 4,
     "metadata": {},
     "output_type": "execute_result"
    }
   ],
   "source": [
    "# Train Dataset 보기\n",
    "print(\"데이터의 형태(행, 열):\", train.shape) \n",
    "train.head()"
   ]
  },
  {
   "cell_type": "code",
   "execution_count": 5,
   "id": "71fd70f8",
   "metadata": {
    "execution": {
     "iopub.execute_input": "2021-09-24T23:39:13.906592Z",
     "iopub.status.busy": "2021-09-24T23:39:13.905708Z",
     "iopub.status.idle": "2021-09-24T23:39:13.910612Z",
     "shell.execute_reply": "2021-09-24T23:39:13.911090Z",
     "shell.execute_reply.started": "2021-09-24T23:32:24.883265Z"
    },
    "papermill": {
     "duration": 0.054848,
     "end_time": "2021-09-24T23:39:13.911239",
     "exception": false,
     "start_time": "2021-09-24T23:39:13.856391",
     "status": "completed"
    },
    "tags": []
   },
   "outputs": [
    {
     "name": "stdout",
     "output_type": "stream",
     "text": [
      "데이터의 형태(행, 열): (20480, 786)\n"
     ]
    },
    {
     "data": {
      "text/html": [
       "<div>\n",
       "<style scoped>\n",
       "    .dataframe tbody tr th:only-of-type {\n",
       "        vertical-align: middle;\n",
       "    }\n",
       "\n",
       "    .dataframe tbody tr th {\n",
       "        vertical-align: top;\n",
       "    }\n",
       "\n",
       "    .dataframe thead th {\n",
       "        text-align: right;\n",
       "    }\n",
       "</style>\n",
       "<table border=\"1\" class=\"dataframe\">\n",
       "  <thead>\n",
       "    <tr style=\"text-align: right;\">\n",
       "      <th></th>\n",
       "      <th>id</th>\n",
       "      <th>letter</th>\n",
       "      <th>0</th>\n",
       "      <th>1</th>\n",
       "      <th>2</th>\n",
       "      <th>3</th>\n",
       "      <th>4</th>\n",
       "      <th>5</th>\n",
       "      <th>6</th>\n",
       "      <th>7</th>\n",
       "      <th>...</th>\n",
       "      <th>774</th>\n",
       "      <th>775</th>\n",
       "      <th>776</th>\n",
       "      <th>777</th>\n",
       "      <th>778</th>\n",
       "      <th>779</th>\n",
       "      <th>780</th>\n",
       "      <th>781</th>\n",
       "      <th>782</th>\n",
       "      <th>783</th>\n",
       "    </tr>\n",
       "  </thead>\n",
       "  <tbody>\n",
       "    <tr>\n",
       "      <th>0</th>\n",
       "      <td>2049</td>\n",
       "      <td>L</td>\n",
       "      <td>0</td>\n",
       "      <td>4</td>\n",
       "      <td>0</td>\n",
       "      <td>2</td>\n",
       "      <td>4</td>\n",
       "      <td>2</td>\n",
       "      <td>3</td>\n",
       "      <td>1</td>\n",
       "      <td>...</td>\n",
       "      <td>2</td>\n",
       "      <td>0</td>\n",
       "      <td>4</td>\n",
       "      <td>2</td>\n",
       "      <td>2</td>\n",
       "      <td>4</td>\n",
       "      <td>3</td>\n",
       "      <td>4</td>\n",
       "      <td>1</td>\n",
       "      <td>4</td>\n",
       "    </tr>\n",
       "    <tr>\n",
       "      <th>1</th>\n",
       "      <td>2050</td>\n",
       "      <td>C</td>\n",
       "      <td>4</td>\n",
       "      <td>1</td>\n",
       "      <td>4</td>\n",
       "      <td>0</td>\n",
       "      <td>1</td>\n",
       "      <td>1</td>\n",
       "      <td>0</td>\n",
       "      <td>2</td>\n",
       "      <td>...</td>\n",
       "      <td>0</td>\n",
       "      <td>3</td>\n",
       "      <td>2</td>\n",
       "      <td>4</td>\n",
       "      <td>2</td>\n",
       "      <td>4</td>\n",
       "      <td>2</td>\n",
       "      <td>2</td>\n",
       "      <td>1</td>\n",
       "      <td>2</td>\n",
       "    </tr>\n",
       "    <tr>\n",
       "      <th>2</th>\n",
       "      <td>2051</td>\n",
       "      <td>S</td>\n",
       "      <td>0</td>\n",
       "      <td>4</td>\n",
       "      <td>0</td>\n",
       "      <td>1</td>\n",
       "      <td>3</td>\n",
       "      <td>2</td>\n",
       "      <td>3</td>\n",
       "      <td>0</td>\n",
       "      <td>...</td>\n",
       "      <td>1</td>\n",
       "      <td>3</td>\n",
       "      <td>2</td>\n",
       "      <td>0</td>\n",
       "      <td>3</td>\n",
       "      <td>2</td>\n",
       "      <td>3</td>\n",
       "      <td>0</td>\n",
       "      <td>1</td>\n",
       "      <td>4</td>\n",
       "    </tr>\n",
       "    <tr>\n",
       "      <th>3</th>\n",
       "      <td>2052</td>\n",
       "      <td>K</td>\n",
       "      <td>2</td>\n",
       "      <td>1</td>\n",
       "      <td>3</td>\n",
       "      <td>3</td>\n",
       "      <td>3</td>\n",
       "      <td>4</td>\n",
       "      <td>3</td>\n",
       "      <td>0</td>\n",
       "      <td>...</td>\n",
       "      <td>3</td>\n",
       "      <td>0</td>\n",
       "      <td>3</td>\n",
       "      <td>2</td>\n",
       "      <td>4</td>\n",
       "      <td>1</td>\n",
       "      <td>0</td>\n",
       "      <td>4</td>\n",
       "      <td>4</td>\n",
       "      <td>4</td>\n",
       "    </tr>\n",
       "    <tr>\n",
       "      <th>4</th>\n",
       "      <td>2053</td>\n",
       "      <td>W</td>\n",
       "      <td>1</td>\n",
       "      <td>0</td>\n",
       "      <td>1</td>\n",
       "      <td>1</td>\n",
       "      <td>2</td>\n",
       "      <td>2</td>\n",
       "      <td>1</td>\n",
       "      <td>4</td>\n",
       "      <td>...</td>\n",
       "      <td>4</td>\n",
       "      <td>3</td>\n",
       "      <td>1</td>\n",
       "      <td>4</td>\n",
       "      <td>0</td>\n",
       "      <td>2</td>\n",
       "      <td>1</td>\n",
       "      <td>2</td>\n",
       "      <td>3</td>\n",
       "      <td>4</td>\n",
       "    </tr>\n",
       "  </tbody>\n",
       "</table>\n",
       "<p>5 rows × 786 columns</p>\n",
       "</div>"
      ],
      "text/plain": [
       "     id letter  0  1  2  3  4  5  6  7  ...  774  775  776  777  778  779  \\\n",
       "0  2049      L  0  4  0  2  4  2  3  1  ...    2    0    4    2    2    4   \n",
       "1  2050      C  4  1  4  0  1  1  0  2  ...    0    3    2    4    2    4   \n",
       "2  2051      S  0  4  0  1  3  2  3  0  ...    1    3    2    0    3    2   \n",
       "3  2052      K  2  1  3  3  3  4  3  0  ...    3    0    3    2    4    1   \n",
       "4  2053      W  1  0  1  1  2  2  1  4  ...    4    3    1    4    0    2   \n",
       "\n",
       "   780  781  782  783  \n",
       "0    3    4    1    4  \n",
       "1    2    2    1    2  \n",
       "2    3    0    1    4  \n",
       "3    0    4    4    4  \n",
       "4    1    2    3    4  \n",
       "\n",
       "[5 rows x 786 columns]"
      ]
     },
     "execution_count": 5,
     "metadata": {},
     "output_type": "execute_result"
    }
   ],
   "source": [
    "# Test Dataset 보기\n",
    "print(\"데이터의 형태(행, 열):\", test.shape) \n",
    "test.head()"
   ]
  },
  {
   "cell_type": "code",
   "execution_count": 6,
   "id": "a135699f",
   "metadata": {
    "execution": {
     "iopub.execute_input": "2021-09-24T23:39:13.986525Z",
     "iopub.status.busy": "2021-09-24T23:39:13.985987Z",
     "iopub.status.idle": "2021-09-24T23:39:13.993071Z",
     "shell.execute_reply": "2021-09-24T23:39:13.992363Z",
     "shell.execute_reply.started": "2021-09-24T23:32:24.908908Z"
    },
    "papermill": {
     "duration": 0.048162,
     "end_time": "2021-09-24T23:39:13.993189",
     "exception": false,
     "start_time": "2021-09-24T23:39:13.945027",
     "status": "completed"
    },
    "tags": []
   },
   "outputs": [
    {
     "name": "stdout",
     "output_type": "stream",
     "text": [
      "데이터의 형태(행, 열): (20480, 786)\n"
     ]
    },
    {
     "data": {
      "text/html": [
       "<div>\n",
       "<style scoped>\n",
       "    .dataframe tbody tr th:only-of-type {\n",
       "        vertical-align: middle;\n",
       "    }\n",
       "\n",
       "    .dataframe tbody tr th {\n",
       "        vertical-align: top;\n",
       "    }\n",
       "\n",
       "    .dataframe thead th {\n",
       "        text-align: right;\n",
       "    }\n",
       "</style>\n",
       "<table border=\"1\" class=\"dataframe\">\n",
       "  <thead>\n",
       "    <tr style=\"text-align: right;\">\n",
       "      <th></th>\n",
       "      <th>id</th>\n",
       "      <th>digit</th>\n",
       "    </tr>\n",
       "  </thead>\n",
       "  <tbody>\n",
       "    <tr>\n",
       "      <th>0</th>\n",
       "      <td>2049</td>\n",
       "      <td>0</td>\n",
       "    </tr>\n",
       "    <tr>\n",
       "      <th>1</th>\n",
       "      <td>2050</td>\n",
       "      <td>0</td>\n",
       "    </tr>\n",
       "    <tr>\n",
       "      <th>2</th>\n",
       "      <td>2051</td>\n",
       "      <td>0</td>\n",
       "    </tr>\n",
       "    <tr>\n",
       "      <th>3</th>\n",
       "      <td>2052</td>\n",
       "      <td>0</td>\n",
       "    </tr>\n",
       "    <tr>\n",
       "      <th>4</th>\n",
       "      <td>2053</td>\n",
       "      <td>0</td>\n",
       "    </tr>\n",
       "  </tbody>\n",
       "</table>\n",
       "</div>"
      ],
      "text/plain": [
       "     id  digit\n",
       "0  2049      0\n",
       "1  2050      0\n",
       "2  2051      0\n",
       "3  2052      0\n",
       "4  2053      0"
      ]
     },
     "execution_count": 6,
     "metadata": {},
     "output_type": "execute_result"
    }
   ],
   "source": [
    "# Submission Dataset 보기\n",
    "print(\"데이터의 형태(행, 열):\", test.shape)\n",
    "submission.head()"
   ]
  },
  {
   "cell_type": "markdown",
   "id": "d2cd53e3",
   "metadata": {
    "papermill": {
     "duration": 0.03196,
     "end_time": "2021-09-24T23:39:14.057107",
     "exception": false,
     "start_time": "2021-09-24T23:39:14.025147",
     "status": "completed"
    },
    "tags": []
   },
   "source": [
    "Train과 Test에서의 차이는 Test Dataset에 hidden number가 병기가 안 되어있다. 이를 표시해서 구하는 것이 submission.csv 를 출력할 때 필요하다.\n",
    "\n",
    "train과 submission의 index가 2049부터 시작하는 것 보아서 처음에 같이 있는 것을 나눈 것 같다.\n",
    "\n",
    "우선 봐야 할 것은 뒤에 0~783까지 픽셀 값들은 이미지를 표현하기 위한 것인데, 이를 학습할 수 있도록 전처리 해야한다.\n",
    "\n",
    "또한, train과 test 데이터 개수 차이가 많이 나므로 이에 대한 대책도 필요하고, 편향된 데이터 인지도 분석이 필요하다. "
   ]
  },
  {
   "cell_type": "markdown",
   "id": "3951d5e8",
   "metadata": {
    "papermill": {
     "duration": 0.032267,
     "end_time": "2021-09-24T23:39:14.121350",
     "exception": false,
     "start_time": "2021-09-24T23:39:14.089083",
     "status": "completed"
    },
    "tags": []
   },
   "source": [
    "## EDA (Exploratory Data Analysis)"
   ]
  },
  {
   "cell_type": "code",
   "execution_count": 7,
   "id": "784961ba",
   "metadata": {
    "execution": {
     "iopub.execute_input": "2021-09-24T23:39:14.195708Z",
     "iopub.status.busy": "2021-09-24T23:39:14.195166Z",
     "iopub.status.idle": "2021-09-24T23:39:14.489327Z",
     "shell.execute_reply": "2021-09-24T23:39:14.490072Z",
     "shell.execute_reply.started": "2021-09-24T23:32:24.920441Z"
    },
    "papermill": {
     "duration": 0.337097,
     "end_time": "2021-09-24T23:39:14.490246",
     "exception": false,
     "start_time": "2021-09-24T23:39:14.153149",
     "status": "completed"
    },
    "tags": []
   },
   "outputs": [
    {
     "data": {
      "text/plain": [
       "[Text(0.5, 0, 'Digit(Target)'), Text(0, 0.5, 'Count')]"
      ]
     },
     "execution_count": 7,
     "metadata": {},
     "output_type": "execute_result"
    },
    {
     "data": {
      "image/png": "[encoded data removed]",
      "text/plain": [
       "<Figure size 720x432 with 1 Axes>"
      ]
     },
     "metadata": {
      "needs_background": "light"
     },
     "output_type": "display_data"
    }
   ],
   "source": [
    "# 숫자 분포\n",
    "plt.figure(figsize=(10, 6))\n",
    "sns.set_theme(style=\"darkgrid\")\n",
    "ax = sns.countplot(x=\"digit\", data=train)\n",
    "ax.set(xlabel='Digit(Target)', ylabel='Count')"
   ]
  },
  {
   "cell_type": "code",
   "execution_count": 8,
   "id": "a8ea1b3f",
   "metadata": {
    "execution": {
     "iopub.execute_input": "2021-09-24T23:39:14.597958Z",
     "iopub.status.busy": "2021-09-24T23:39:14.568863Z",
     "iopub.status.idle": "2021-09-24T23:39:15.020871Z",
     "shell.execute_reply": "2021-09-24T23:39:15.020378Z",
     "shell.execute_reply.started": "2021-09-24T23:32:25.190117Z"
    },
    "papermill": {
     "duration": 0.49722,
     "end_time": "2021-09-24T23:39:15.020997",
     "exception": false,
     "start_time": "2021-09-24T23:39:14.523777",
     "status": "completed"
    },
    "tags": []
   },
   "outputs": [
    {
     "data": {
      "text/plain": [
       "[Text(0.5, 0, 'Letter'), Text(0, 0.5, 'Count')]"
      ]
     },
     "execution_count": 8,
     "metadata": {},
     "output_type": "execute_result"
    },
    {
     "data": {
      "image/png": "[encoded data removed]",
      "text/plain": [
       "<Figure size 720x432 with 1 Axes>"
      ]
     },
     "metadata": {},
     "output_type": "display_data"
    }
   ],
   "source": [
    "plt.figure(figsize=(10, 6))\n",
    "sns.set_theme(style=\"darkgrid\")\n",
    "ax = sns.countplot(x=\"letter\", data=train)\n",
    "ax.set(xlabel='Letter', ylabel='Count')"
   ]
  },
  {
   "cell_type": "markdown",
   "id": "9c7e5214",
   "metadata": {
    "papermill": {
     "duration": 0.034763,
     "end_time": "2021-09-24T23:39:15.091972",
     "exception": false,
     "start_time": "2021-09-24T23:39:15.057209",
     "status": "completed"
    },
    "tags": []
   },
   "source": [
    "데이터가 imbalanced 한 것은 아니여서 별도의 조작은 필요 없을 것 같다."
   ]
  },
  {
   "cell_type": "code",
   "execution_count": 9,
   "id": "1b1feab1",
   "metadata": {
    "execution": {
     "iopub.execute_input": "2021-09-24T23:39:15.168277Z",
     "iopub.status.busy": "2021-09-24T23:39:15.167185Z",
     "iopub.status.idle": "2021-09-24T23:39:15.526921Z",
     "shell.execute_reply": "2021-09-24T23:39:15.527586Z",
     "shell.execute_reply.started": "2021-09-24T23:32:25.591663Z"
    },
    "papermill": {
     "duration": 0.4017,
     "end_time": "2021-09-24T23:39:15.527764",
     "exception": false,
     "start_time": "2021-09-24T23:39:15.126064",
     "status": "completed"
    },
    "tags": []
   },
   "outputs": [
    {
     "data": {
      "image/png": "[encoded data removed]",
      "text/plain": [
       "<Figure size 432x288 with 1 Axes>"
      ]
     },
     "metadata": {},
     "output_type": "display_data"
    }
   ],
   "source": [
    "# 이미지 조회\n",
    "idx = 560\n",
    "img = train.loc[idx, '0':].values.reshape(28, 28).astype(int) # 28*28 ndarray 꼴로 변환 \n",
    "digit = train.loc[idx, 'digit']\n",
    "letter = train.loc[idx, 'letter']\n",
    "\n",
    "plt.title('Index: %i, Digit: %s, Letter: %s'%(idx, digit, letter)) # 위의 줄 출력\n",
    "plt.imshow(img)\n",
    "plt.show()"
   ]
  },
  {
   "cell_type": "markdown",
   "id": "3eef688c",
   "metadata": {
    "papermill": {
     "duration": 0.034409,
     "end_time": "2021-09-24T23:39:15.596619",
     "exception": false,
     "start_time": "2021-09-24T23:39:15.562210",
     "status": "completed"
    },
    "tags": []
   },
   "source": [
    "이미지를 reshape해서 저장을 하는 것이 좋아보인다."
   ]
  },
  {
   "cell_type": "markdown",
   "id": "fd391abd",
   "metadata": {
    "papermill": {
     "duration": 0.033911,
     "end_time": "2021-09-24T23:39:15.664601",
     "exception": false,
     "start_time": "2021-09-24T23:39:15.630690",
     "status": "completed"
    },
    "tags": []
   },
   "source": [
    "## Preprocessing"
   ]
  },
  {
   "cell_type": "code",
   "execution_count": 10,
   "id": "548d50f5",
   "metadata": {
    "execution": {
     "iopub.execute_input": "2021-09-24T23:39:15.782214Z",
     "iopub.status.busy": "2021-09-24T23:39:15.781386Z",
     "iopub.status.idle": "2021-09-24T23:39:15.784368Z",
     "shell.execute_reply": "2021-09-24T23:39:15.783943Z",
     "shell.execute_reply.started": "2021-09-24T23:32:25.811951Z"
    },
    "papermill": {
     "duration": 0.085685,
     "end_time": "2021-09-24T23:39:15.784495",
     "exception": false,
     "start_time": "2021-09-24T23:39:15.698810",
     "status": "completed"
    },
    "tags": []
   },
   "outputs": [],
   "source": [
    "# 불필요한 column 제거\n",
    "train2 = train.drop(['id','digit','letter'],1)\n",
    "test2 = test.drop(['id','letter'],1)"
   ]
  },
  {
   "cell_type": "code",
   "execution_count": 11,
   "id": "f254c0f4",
   "metadata": {
    "execution": {
     "iopub.execute_input": "2021-09-24T23:39:15.859020Z",
     "iopub.status.busy": "2021-09-24T23:39:15.858278Z",
     "iopub.status.idle": "2021-09-24T23:39:15.860396Z",
     "shell.execute_reply": "2021-09-24T23:39:15.860862Z",
     "shell.execute_reply.started": "2021-09-24T23:32:25.860088Z"
    },
    "papermill": {
     "duration": 0.04115,
     "end_time": "2021-09-24T23:39:15.860997",
     "exception": false,
     "start_time": "2021-09-24T23:39:15.819847",
     "status": "completed"
    },
    "tags": []
   },
   "outputs": [],
   "source": [
    "# 데이터프레임(pd)을 ndarray(np) 형식으로 변환 후 reshape\n",
    "train2 = train2.values.reshape(-1,28,28,1)\n",
    "test2 = test2.values.reshape(-1,28,28,1)"
   ]
  },
  {
   "cell_type": "code",
   "execution_count": 12,
   "id": "55d580df",
   "metadata": {
    "execution": {
     "iopub.execute_input": "2021-09-24T23:39:15.963832Z",
     "iopub.status.busy": "2021-09-24T23:39:15.962983Z",
     "iopub.status.idle": "2021-09-24T23:39:16.817544Z",
     "shell.execute_reply": "2021-09-24T23:39:16.817130Z",
     "shell.execute_reply.started": "2021-09-24T23:32:25.868940Z"
    },
    "papermill": {
     "duration": 0.92269,
     "end_time": "2021-09-24T23:39:16.817670",
     "exception": false,
     "start_time": "2021-09-24T23:39:15.894980",
     "status": "completed"
    },
    "tags": []
   },
   "outputs": [
    {
     "data": {
      "image/png": "[encoded data removed]",
      "text/plain": [
       "<Figure size 1440x288 with 5 Axes>"
      ]
     },
     "metadata": {},
     "output_type": "display_data"
    }
   ],
   "source": [
    "plt.figure(figsize=(20,4))\n",
    "for i in range(5):\n",
    "    img = train2[i].reshape(28,28)\n",
    "    digit = train.loc[i, 'digit']\n",
    "    letter = train.loc[i, 'letter']\n",
    "    plt.subplot(1,5, i + 1)\n",
    "    plt.title('Index: %i, Digit: %s, Letter: %s'%(i, digit, letter))\n",
    "    plt.imshow(img)"
   ]
  },
  {
   "cell_type": "markdown",
   "id": "70064321",
   "metadata": {
    "papermill": {
     "duration": 0.036904,
     "end_time": "2021-09-24T23:39:16.890819",
     "exception": false,
     "start_time": "2021-09-24T23:39:16.853915",
     "status": "completed"
    },
    "tags": []
   },
   "source": [
    "다음 예시들을 보니 데이터셋은 알파벳인 EMNIST 위에 MNIST를 겹친 후, 알파벳이 아닌 부분을 제외하는 형태로 만들어주었다.\n",
    "\n",
    "따라서, 겹치지 않은 알파벳 부분을 제거해 준 다음에 원래 MNIST 방식으로 학습할 수 있도록 모델을 만들어준다."
   ]
  },
  {
   "cell_type": "code",
   "execution_count": 13,
   "id": "1e638cf0",
   "metadata": {
    "execution": {
     "iopub.execute_input": "2021-09-24T23:39:16.967454Z",
     "iopub.status.busy": "2021-09-24T23:39:16.966485Z",
     "iopub.status.idle": "2021-09-24T23:39:17.251372Z",
     "shell.execute_reply": "2021-09-24T23:39:17.250892Z",
     "shell.execute_reply.started": "2021-09-24T23:32:26.676002Z"
    },
    "papermill": {
     "duration": 0.325233,
     "end_time": "2021-09-24T23:39:17.251501",
     "exception": false,
     "start_time": "2021-09-24T23:39:16.926268",
     "status": "completed"
    },
    "tags": []
   },
   "outputs": [],
   "source": [
    "# data normalization\n",
    "train2 = train2/255.\n",
    "test2 = test2/255.\n",
    "\n",
    "# 어두운 알파벳 부분 제거\n",
    "threshold = 0.6\n",
    "train2[train2 < threshold] = 0\n",
    "test2[test2 < threshold] = 0"
   ]
  },
  {
   "cell_type": "code",
   "execution_count": 14,
   "id": "0d7dbb71",
   "metadata": {
    "execution": {
     "iopub.execute_input": "2021-09-24T23:39:17.328082Z",
     "iopub.status.busy": "2021-09-24T23:39:17.327512Z",
     "iopub.status.idle": "2021-09-24T23:39:17.331077Z",
     "shell.execute_reply": "2021-09-24T23:39:17.331474Z",
     "shell.execute_reply.started": "2021-09-24T23:32:26.976893Z"
    },
    "papermill": {
     "duration": 0.044291,
     "end_time": "2021-09-24T23:39:17.331603",
     "exception": false,
     "start_time": "2021-09-24T23:39:17.287312",
     "status": "completed"
    },
    "tags": []
   },
   "outputs": [],
   "source": [
    "def test_imgs(imgs): # 이미지 10개를 보여주며 경향성을 나타낸다.\n",
    "    plt.figure(figsize=(20, 5))\n",
    "    for i in range(10):\n",
    "        ax = plt.subplot(2, 10, i + 1)\n",
    "        plt.imshow(imgs[i])\n",
    "        ax.get_xaxis().set_visible(False)\n",
    "        ax.get_yaxis().set_visible(False)\n",
    "    plt.show()"
   ]
  },
  {
   "cell_type": "code",
   "execution_count": 15,
   "id": "881a8174",
   "metadata": {
    "execution": {
     "iopub.execute_input": "2021-09-24T23:39:17.417199Z",
     "iopub.status.busy": "2021-09-24T23:39:17.414876Z",
     "iopub.status.idle": "2021-09-24T23:39:17.419717Z",
     "shell.execute_reply": "2021-09-24T23:39:17.419328Z",
     "shell.execute_reply.started": "2021-09-24T23:32:26.984998Z"
    },
    "papermill": {
     "duration": 0.052999,
     "end_time": "2021-09-24T23:39:17.419840",
     "exception": false,
     "start_time": "2021-09-24T23:39:17.366841",
     "status": "completed"
    },
    "tags": []
   },
   "outputs": [],
   "source": [
    "y = train['digit'] # Digit 열에 있는 결과값들 \n",
    "y_train = np.zeros((len(y), len(y.unique()))) # y_train을 0으로 초기화한다\n",
    "for i, digit in enumerate(y):\n",
    "    y_train[i, digit] = 1 # 이를 통해 One-Hot Encoding이 가능하다"
   ]
  },
  {
   "cell_type": "code",
   "execution_count": 16,
   "id": "0f4c2d0c",
   "metadata": {
    "execution": {
     "iopub.execute_input": "2021-09-24T23:39:17.495650Z",
     "iopub.status.busy": "2021-09-24T23:39:17.494765Z",
     "iopub.status.idle": "2021-09-24T23:39:18.464683Z",
     "shell.execute_reply": "2021-09-24T23:39:18.463766Z",
     "shell.execute_reply.started": "2021-09-24T23:32:26.996524Z"
    },
    "papermill": {
     "duration": 1.009713,
     "end_time": "2021-09-24T23:39:18.464846",
     "exception": false,
     "start_time": "2021-09-24T23:39:17.455133",
     "status": "completed"
    },
    "tags": []
   },
   "outputs": [],
   "source": [
    "x_train1 = np.repeat(train2, 3, axis=1)\n",
    "x_train2 = np.repeat(x_train1, 3, axis=2)\n",
    "x_test1 = np.repeat(test2, 3, axis=1)\n",
    "x_test2 = np.repeat(x_test1, 3, axis=2)"
   ]
  },
  {
   "cell_type": "code",
   "execution_count": 17,
   "id": "2aee360d",
   "metadata": {
    "execution": {
     "iopub.execute_input": "2021-09-24T23:39:18.542981Z",
     "iopub.status.busy": "2021-09-24T23:39:18.541432Z",
     "iopub.status.idle": "2021-09-24T23:39:18.545321Z",
     "shell.execute_reply": "2021-09-24T23:39:18.544712Z",
     "shell.execute_reply.started": "2021-09-24T23:32:27.934249Z"
    },
    "papermill": {
     "duration": 0.04481,
     "end_time": "2021-09-24T23:39:18.545463",
     "exception": false,
     "start_time": "2021-09-24T23:39:18.500653",
     "status": "completed"
    },
    "tags": []
   },
   "outputs": [
    {
     "name": "stdout",
     "output_type": "stream",
     "text": [
      "(2048, 84, 84, 1)\n",
      "(20480, 84, 84, 1)\n"
     ]
    }
   ],
   "source": [
    "print(x_train2.shape)\n",
    "print(x_test2.shape)"
   ]
  },
  {
   "cell_type": "code",
   "execution_count": 18,
   "id": "3725fe26",
   "metadata": {
    "execution": {
     "iopub.execute_input": "2021-09-24T23:39:18.623696Z",
     "iopub.status.busy": "2021-09-24T23:39:18.623170Z",
     "iopub.status.idle": "2021-09-24T23:39:18.626336Z",
     "shell.execute_reply": "2021-09-24T23:39:18.627177Z",
     "shell.execute_reply.started": "2021-09-24T23:32:27.942058Z"
    },
    "papermill": {
     "duration": 0.044752,
     "end_time": "2021-09-24T23:39:18.627316",
     "exception": false,
     "start_time": "2021-09-24T23:39:18.582564",
     "status": "completed"
    },
    "tags": []
   },
   "outputs": [],
   "source": [
    "'''\n",
    "idg = ImageDataGenerator(width_shift_range=5, height_shift_range=5, rotation_range=10, zoom_range=0.05)  \n",
    "idg2 = ImageDataGenerator()\n",
    "    \n",
    "train_generator = idg.flow(x_train,y_train)\n",
    "valid_generator = idg2.flow(x_valid,y_valid)\n",
    "test_generator = idg2.flow(test2,shuffle=False)\n",
    "'''\n",
    "datagen = ImageDataGenerator(rotation_range=10,  zoom_range = 0.1, width_shift_range=0.1, height_shift_range=0.1)\n",
    "# idg2 = ImageDataGenerator()"
   ]
  },
  {
   "cell_type": "code",
   "execution_count": 19,
   "id": "c8b00371",
   "metadata": {
    "execution": {
     "iopub.execute_input": "2021-09-24T23:39:18.705082Z",
     "iopub.status.busy": "2021-09-24T23:39:18.704400Z",
     "iopub.status.idle": "2021-09-24T23:39:18.707499Z",
     "shell.execute_reply": "2021-09-24T23:39:18.707016Z",
     "shell.execute_reply.started": "2021-09-24T23:32:27.953140Z"
    },
    "papermill": {
     "duration": 0.043125,
     "end_time": "2021-09-24T23:39:18.707598",
     "exception": false,
     "start_time": "2021-09-24T23:39:18.664473",
     "status": "completed"
    },
    "tags": []
   },
   "outputs": [
    {
     "data": {
      "text/plain": [
       "'\\nsample_data = train2[idx].reshape(1,28,28,1)\\nsample_generator = idg.flow(sample_data, batch_size=1)\\n\\nplt.figure(figsize=(16,10))\\n\\nfor i in range(9) : \\n    plt.subplot(3,3,i+1)\\n    plt.imshow(sample_generator[0].reshape(28,28))\\n'"
      ]
     },
     "execution_count": 19,
     "metadata": {},
     "output_type": "execute_result"
    }
   ],
   "source": [
    "'''\n",
    "sample_data = train2[idx].reshape(1,28,28,1)\n",
    "sample_generator = idg.flow(sample_data, batch_size=1)\n",
    "\n",
    "plt.figure(figsize=(16,10))\n",
    "\n",
    "for i in range(9) : \n",
    "    plt.subplot(3,3,i+1)\n",
    "    plt.imshow(sample_generator[0].reshape(28,28))\n",
    "'''"
   ]
  },
  {
   "cell_type": "markdown",
   "id": "184f224f",
   "metadata": {
    "papermill": {
     "duration": 0.035358,
     "end_time": "2021-09-24T23:39:18.778923",
     "exception": false,
     "start_time": "2021-09-24T23:39:18.743565",
     "status": "completed"
    },
    "tags": []
   },
   "source": [
    "## Previous Modelling"
   ]
  },
  {
   "cell_type": "code",
   "execution_count": 20,
   "id": "c761f487",
   "metadata": {
    "execution": {
     "iopub.execute_input": "2021-09-24T23:39:18.855883Z",
     "iopub.status.busy": "2021-09-24T23:39:18.855211Z",
     "iopub.status.idle": "2021-09-24T23:39:18.857313Z",
     "shell.execute_reply": "2021-09-24T23:39:18.857709Z",
     "shell.execute_reply.started": "2021-09-24T23:32:27.966837Z"
    },
    "papermill": {
     "duration": 0.042677,
     "end_time": "2021-09-24T23:39:18.857861",
     "exception": false,
     "start_time": "2021-09-24T23:39:18.815184",
     "status": "completed"
    },
    "tags": []
   },
   "outputs": [],
   "source": [
    "from tensorflow.keras.callbacks import EarlyStopping, LearningRateScheduler # ModelCheckpoint\n",
    "\n",
    "LR = LearningRateScheduler(lambda x: 1e-3 * 0.95 ** x) #learning rate scheduler\n",
    "es = EarlyStopping(patience=20, verbose=1)"
   ]
  },
  {
   "cell_type": "code",
   "execution_count": 21,
   "id": "e5e69ef5",
   "metadata": {
    "execution": {
     "iopub.execute_input": "2021-09-24T23:39:18.935039Z",
     "iopub.status.busy": "2021-09-24T23:39:18.934337Z",
     "iopub.status.idle": "2021-09-24T23:39:18.937002Z",
     "shell.execute_reply": "2021-09-24T23:39:18.937490Z",
     "shell.execute_reply.started": "2021-09-24T23:32:27.974797Z"
    },
    "papermill": {
     "duration": 0.043784,
     "end_time": "2021-09-24T23:39:18.937610",
     "exception": false,
     "start_time": "2021-09-24T23:39:18.893826",
     "status": "completed"
    },
    "tags": []
   },
   "outputs": [
    {
     "data": {
      "text/plain": [
       "\"\\nmodel = Sequential()\\n\\nmodel.add(Conv2D(128,activation='relu',input_shape=(28,28,1),kernel_size=(5,5), padding='same'))\\nmodel.add(BatchNormalization())\\nmodel.add(Conv2D(128,activation='relu',kernel_size=(2,2), padding='same'))\\nmodel.add(BatchNormalization())\\nmodel.add(MaxPooling2D((2,2)))\\nmodel.add(Dropout(0.2))\\n\\nmodel.add(Conv2D(256,activation='relu',kernel_size=(2,2), padding='same'))\\nmodel.add(BatchNormalization())\\nmodel.add(Conv2D(256,activation='relu',kernel_size=(2,2), padding='same'))\\nmodel.add(BatchNormalization())\\nmodel.add(MaxPooling2D((2,2)))\\nmodel.add(Dropout(0.2))\\n\\nmodel.add(Flatten())\\n\\nmodel.add(Dense(1000,activation='relu'))\\nmodel.add(BatchNormalization())\\nmodel.add(Dropout(0.3))\\n\\nmodel.add(Dense(10,activation='softmax'))\\n\\nmodel.compile(loss='sparse_categorical_crossentropy', optimizer='adam', metrics=['acc'])\\nlearning_history = model.fit(train_generator, validation_data=valid_generator, epochs=100, callbacks=[es,mc,reLR])\\nhist = pd.DataFrame(learning_history.history)\\n\""
      ]
     },
     "execution_count": 21,
     "metadata": {},
     "output_type": "execute_result"
    }
   ],
   "source": [
    "# Convolutional Layer, FullyConnected Layer 뒤에 Dropout 추가하기\n",
    "'''\n",
    "model = Sequential()\n",
    "\n",
    "model.add(Conv2D(128,activation='relu',input_shape=(28,28,1),kernel_size=(5,5), padding='same'))\n",
    "model.add(BatchNormalization())\n",
    "model.add(Conv2D(128,activation='relu',kernel_size=(2,2), padding='same'))\n",
    "model.add(BatchNormalization())\n",
    "model.add(MaxPooling2D((2,2)))\n",
    "model.add(Dropout(0.2))\n",
    "\n",
    "model.add(Conv2D(256,activation='relu',kernel_size=(2,2), padding='same'))\n",
    "model.add(BatchNormalization())\n",
    "model.add(Conv2D(256,activation='relu',kernel_size=(2,2), padding='same'))\n",
    "model.add(BatchNormalization())\n",
    "model.add(MaxPooling2D((2,2)))\n",
    "model.add(Dropout(0.2))\n",
    "\n",
    "model.add(Flatten())\n",
    "\n",
    "model.add(Dense(1000,activation='relu'))\n",
    "model.add(BatchNormalization())\n",
    "model.add(Dropout(0.3))\n",
    "\n",
    "model.add(Dense(10,activation='softmax'))\n",
    "\n",
    "model.compile(loss='sparse_categorical_crossentropy', optimizer='adam', metrics=['acc'])\n",
    "learning_history = model.fit(train_generator, validation_data=valid_generator, epochs=100, callbacks=[es,mc,reLR])\n",
    "hist = pd.DataFrame(learning_history.history)\n",
    "'''\n"
   ]
  },
  {
   "cell_type": "code",
   "execution_count": 22,
   "id": "2909b701",
   "metadata": {
    "execution": {
     "iopub.execute_input": "2021-09-24T23:39:19.013614Z",
     "iopub.status.busy": "2021-09-24T23:39:19.012819Z",
     "iopub.status.idle": "2021-09-24T23:39:19.019653Z",
     "shell.execute_reply": "2021-09-24T23:39:19.019244Z",
     "shell.execute_reply.started": "2021-09-24T23:32:27.986163Z"
    },
    "papermill": {
     "duration": 0.04587,
     "end_time": "2021-09-24T23:39:19.019766",
     "exception": false,
     "start_time": "2021-09-24T23:39:18.973896",
     "status": "completed"
    },
    "tags": []
   },
   "outputs": [
    {
     "data": {
      "text/plain": [
       "\"\\nfrom sklearn.model_selection import StratifiedKFold\\nskf = StratifiedKFold(n_splits=5, random_state=42, shuffle=True)\\n\\nresult = 0\\nfor train_index, valid_index in skf.split(train2,train['digit']) :\\n    mc = ModelCheckpoint('best_cvision.h5',save_best_only=True, verbose=1) # 가장 우수한 결과만 저장\\n    model = Sequential()\\n\\n    model.add(Conv2D(128,activation='relu',input_shape=(28,28,1),kernel_size=(5,5), padding='same'))\\n    model.add(BatchNormalization())\\n    model.add(Conv2D(128,activation='relu',kernel_size=(2,2), padding='same'))\\n    model.add(BatchNormalization())\\n    model.add(MaxPooling2D((2,2)))\\n    model.add(Dropout(0.25))\\n\\n    model.add(Conv2D(256,activation='relu',kernel_size=(2,2), padding='same'))\\n    model.add(BatchNormalization())\\n    model.add(Conv2D(256,activation='relu',kernel_size=(2,2), padding='same'))\\n    model.add(BatchNormalization())\\n    model.add(MaxPooling2D((2,2)))\\n    model.add(Dropout(0.25))\\n\\n    model.add(Dense(10,activation='softmax'))\\n  \\n    model.compile(loss='sparse_categorical_crossentropy', optimizer='adam',metrics=['acc'])\\n      \\n    history = model.fit(x_train, y_train, validation_data=(x_valid, y_valid))\\n    learning_history = model.fit(train_generator, validation_data=valid_generator, epochs=100, callbacks=[es,mc,reLR])\\n    \\n    # history\\n    hist = pd.DataFrame(learning_history.history)\\n    hist['val_loss'].min()\\n    \\n    # predict\\n    model.load_weights('best_cvision.h5')\\n    result += model.predict(test_generator,verbose=True)/5\\n\""
      ]
     },
     "execution_count": 22,
     "metadata": {},
     "output_type": "execute_result"
    }
   ],
   "source": [
    "# cross validation\n",
    "'''\n",
    "from sklearn.model_selection import StratifiedKFold\n",
    "skf = StratifiedKFold(n_splits=5, random_state=42, shuffle=True)\n",
    "\n",
    "result = 0\n",
    "for train_index, valid_index in skf.split(train2,train['digit']) :\n",
    "    mc = ModelCheckpoint('best_cvision.h5',save_best_only=True, verbose=1) # 가장 우수한 결과만 저장\n",
    "    model = Sequential()\n",
    "\n",
    "    model.add(Conv2D(128,activation='relu',input_shape=(28,28,1),kernel_size=(5,5), padding='same'))\n",
    "    model.add(BatchNormalization())\n",
    "    model.add(Conv2D(128,activation='relu',kernel_size=(2,2), padding='same'))\n",
    "    model.add(BatchNormalization())\n",
    "    model.add(MaxPooling2D((2,2)))\n",
    "    model.add(Dropout(0.25))\n",
    "\n",
    "    model.add(Conv2D(256,activation='relu',kernel_size=(2,2), padding='same'))\n",
    "    model.add(BatchNormalization())\n",
    "    model.add(Conv2D(256,activation='relu',kernel_size=(2,2), padding='same'))\n",
    "    model.add(BatchNormalization())\n",
    "    model.add(MaxPooling2D((2,2)))\n",
    "    model.add(Dropout(0.25))\n",
    "\n",
    "    model.add(Dense(10,activation='softmax'))\n",
    "  \n",
    "    model.compile(loss='sparse_categorical_crossentropy', optimizer='adam',metrics=['acc'])\n",
    "      \n",
    "    history = model.fit(x_train, y_train, validation_data=(x_valid, y_valid))\n",
    "    learning_history = model.fit(train_generator, validation_data=valid_generator, epochs=100, callbacks=[es,mc,reLR])\n",
    "    \n",
    "    # history\n",
    "    hist = pd.DataFrame(learning_history.history)\n",
    "    hist['val_loss'].min()\n",
    "    \n",
    "    # predict\n",
    "    model.load_weights('best_cvision.h5')\n",
    "    result += model.predict(test_generator,verbose=True)/5\n",
    "'''"
   ]
  },
  {
   "cell_type": "markdown",
   "id": "ffe07010",
   "metadata": {
    "papermill": {
     "duration": 0.036889,
     "end_time": "2021-09-24T23:39:19.093055",
     "exception": false,
     "start_time": "2021-09-24T23:39:19.056166",
     "status": "completed"
    },
    "tags": []
   },
   "source": [
    "## Modelling"
   ]
  },
  {
   "cell_type": "code",
   "execution_count": 23,
   "id": "73be74bb",
   "metadata": {
    "execution": {
     "iopub.execute_input": "2021-09-24T23:39:19.174078Z",
     "iopub.status.busy": "2021-09-24T23:39:19.168551Z",
     "iopub.status.idle": "2021-09-24T23:39:19.182971Z",
     "shell.execute_reply": "2021-09-24T23:39:19.183375Z",
     "shell.execute_reply.started": "2021-09-24T23:32:27.997444Z"
    },
    "papermill": {
     "duration": 0.054062,
     "end_time": "2021-09-24T23:39:19.183495",
     "exception": false,
     "start_time": "2021-09-24T23:39:19.129433",
     "status": "completed"
    },
    "tags": []
   },
   "outputs": [],
   "source": [
    "\n",
    "def new_model():\n",
    "    inputs = Input(shape = (84,84,1))\n",
    "    \n",
    "    bn = tf.keras.layers.BatchNormalization()(inputs)\n",
    "    conv = tf.keras.layers.Conv2D(64, kernel_size=5, strides=1, padding='same', activation='relu')(bn)\n",
    "    bn = tf.keras.layers.BatchNormalization()(conv)\n",
    "    conv = tf.keras.layers.Conv2D(64, kernel_size=2, strides=1, padding='same', activation='relu')(bn)\n",
    "    pool = tf.keras.layers.MaxPooling2D((2, 2))(conv)\n",
    "    \n",
    "    do=tf.keras.layers.Dropout(0.4)(pool)\n",
    "    \n",
    "    bn = tf.keras.layers.BatchNormalization()(do)\n",
    "    conv = tf.keras.layers.Conv2D(128, kernel_size=5, strides=1, padding='same', activation='relu',kernel_regularizer = regularizers.l2(0.001))(bn)\n",
    "    bn = tf.keras.layers.BatchNormalization()(conv)\n",
    "    conv = tf.keras.layers.Conv2D(128, kernel_size=2, strides=1, padding='same', activation='relu',kernel_regularizer = regularizers.l2(0.001))(bn)\n",
    "    pool = tf.keras.layers.MaxPooling2D((2, 2))(conv)\n",
    "\n",
    "    do=tf.keras.layers.Dropout(0.4)(pool)\n",
    "    \n",
    "    bn = tf.keras.layers.BatchNormalization()(do)\n",
    "    conv = tf.keras.layers.Conv2D(256, kernel_size=2, strides=1, padding='same', activation='relu',kernel_regularizer = regularizers.l2(0.001))(bn)\n",
    "    bn = tf.keras.layers.BatchNormalization()(conv)\n",
    "    conv = tf.keras.layers.Conv2D(256, kernel_size=2, strides=1, padding='same', activation='relu',kernel_regularizer = regularizers.l2(0.001))(bn)\n",
    "    pool = tf.keras.layers.MaxPooling2D((2, 2))(conv)\n",
    "\n",
    "    flatten = tf.keras.layers.Flatten()(pool)\n",
    "\n",
    "    bn = tf.keras.layers.BatchNormalization()(flatten)\n",
    "    dense = tf.keras.layers.Dense(1000, activation='relu')(bn)\n",
    "\n",
    "    bn = tf.keras.layers.BatchNormalization()(dense)\n",
    "    outputs = tf.keras.layers.Dense(10, activation='softmax')(bn)\n",
    "\n",
    "    model = tf.keras.models.Model(inputs=inputs, outputs=outputs)\n",
    "    model.compile(loss='categorical_crossentropy', optimizer='adam', metrics=['accuracy'])\n",
    "    return model"
   ]
  },
  {
   "cell_type": "code",
   "execution_count": 24,
   "id": "be19d81a",
   "metadata": {
    "execution": {
     "iopub.execute_input": "2021-09-24T23:39:19.260249Z",
     "iopub.status.busy": "2021-09-24T23:39:19.259664Z",
     "iopub.status.idle": "2021-09-24T23:39:21.316904Z",
     "shell.execute_reply": "2021-09-24T23:39:21.316033Z",
     "shell.execute_reply.started": "2021-09-24T23:32:28.015930Z"
    },
    "papermill": {
     "duration": 2.097167,
     "end_time": "2021-09-24T23:39:21.317051",
     "exception": false,
     "start_time": "2021-09-24T23:39:19.219884",
     "status": "completed"
    },
    "tags": []
   },
   "outputs": [
    {
     "name": "stderr",
     "output_type": "stream",
     "text": [
      "2021-09-24 23:39:19.280467: I tensorflow/compiler/jit/xla_cpu_device.cc:41] Not creating XLA devices, tf_xla_enable_xla_devices not set\n",
      "2021-09-24 23:39:19.284016: I tensorflow/stream_executor/platform/default/dso_loader.cc:49] Successfully opened dynamic library libcuda.so.1\n",
      "2021-09-24 23:39:19.335393: I tensorflow/stream_executor/cuda/cuda_gpu_executor.cc:941] successful NUMA node read from SysFS had negative value (-1), but there must be at least one NUMA node, so returning NUMA node zero\n",
      "2021-09-24 23:39:19.336028: I tensorflow/core/common_runtime/gpu/gpu_device.cc:1720] Found device 0 with properties: \n",
      "pciBusID: 0000:00:04.0 name: Tesla P100-PCIE-16GB computeCapability: 6.0\n",
      "coreClock: 1.3285GHz coreCount: 56 deviceMemorySize: 15.90GiB deviceMemoryBandwidth: 681.88GiB/s\n",
      "2021-09-24 23:39:19.336090: I tensorflow/stream_executor/platform/default/dso_loader.cc:49] Successfully opened dynamic library libcudart.so.11.0\n",
      "2021-09-24 23:39:19.367622: I tensorflow/stream_executor/platform/default/dso_loader.cc:49] Successfully opened dynamic library libcublas.so.11\n",
      "2021-09-24 23:39:19.367729: I tensorflow/stream_executor/platform/default/dso_loader.cc:49] Successfully opened dynamic library libcublasLt.so.11\n",
      "2021-09-24 23:39:19.382319: I tensorflow/stream_executor/platform/default/dso_loader.cc:49] Successfully opened dynamic library libcufft.so.10\n",
      "2021-09-24 23:39:19.391701: I tensorflow/stream_executor/platform/default/dso_loader.cc:49] Successfully opened dynamic library libcurand.so.10\n",
      "2021-09-24 23:39:19.423139: I tensorflow/stream_executor/platform/default/dso_loader.cc:49] Successfully opened dynamic library libcusolver.so.10\n",
      "2021-09-24 23:39:19.432262: I tensorflow/stream_executor/platform/default/dso_loader.cc:49] Successfully opened dynamic library libcusparse.so.11\n",
      "2021-09-24 23:39:19.437645: I tensorflow/stream_executor/platform/default/dso_loader.cc:49] Successfully opened dynamic library libcudnn.so.8\n",
      "2021-09-24 23:39:19.437856: I tensorflow/stream_executor/cuda/cuda_gpu_executor.cc:941] successful NUMA node read from SysFS had negative value (-1), but there must be at least one NUMA node, so returning NUMA node zero\n",
      "2021-09-24 23:39:19.438571: I tensorflow/stream_executor/cuda/cuda_gpu_executor.cc:941] successful NUMA node read from SysFS had negative value (-1), but there must be at least one NUMA node, so returning NUMA node zero\n",
      "2021-09-24 23:39:19.440192: I tensorflow/core/common_runtime/gpu/gpu_device.cc:1862] Adding visible gpu devices: 0\n",
      "2021-09-24 23:39:19.440664: I tensorflow/core/platform/cpu_feature_guard.cc:142] This TensorFlow binary is optimized with oneAPI Deep Neural Network Library (oneDNN) to use the following CPU instructions in performance-critical operations:  AVX2 AVX512F FMA\n",
      "To enable them in other operations, rebuild TensorFlow with the appropriate compiler flags.\n",
      "2021-09-24 23:39:19.440897: I tensorflow/compiler/jit/xla_gpu_device.cc:99] Not creating XLA devices, tf_xla_enable_xla_devices not set\n",
      "2021-09-24 23:39:19.441083: I tensorflow/stream_executor/cuda/cuda_gpu_executor.cc:941] successful NUMA node read from SysFS had negative value (-1), but there must be at least one NUMA node, so returning NUMA node zero\n",
      "2021-09-24 23:39:19.441669: I tensorflow/core/common_runtime/gpu/gpu_device.cc:1720] Found device 0 with properties: \n",
      "pciBusID: 0000:00:04.0 name: Tesla P100-PCIE-16GB computeCapability: 6.0\n",
      "coreClock: 1.3285GHz coreCount: 56 deviceMemorySize: 15.90GiB deviceMemoryBandwidth: 681.88GiB/s\n",
      "2021-09-24 23:39:19.441711: I tensorflow/stream_executor/platform/default/dso_loader.cc:49] Successfully opened dynamic library libcudart.so.11.0\n",
      "2021-09-24 23:39:19.441734: I tensorflow/stream_executor/platform/default/dso_loader.cc:49] Successfully opened dynamic library libcublas.so.11\n",
      "2021-09-24 23:39:19.441765: I tensorflow/stream_executor/platform/default/dso_loader.cc:49] Successfully opened dynamic library libcublasLt.so.11\n",
      "2021-09-24 23:39:19.441783: I tensorflow/stream_executor/platform/default/dso_loader.cc:49] Successfully opened dynamic library libcufft.so.10\n",
      "2021-09-24 23:39:19.441800: I tensorflow/stream_executor/platform/default/dso_loader.cc:49] Successfully opened dynamic library libcurand.so.10\n",
      "2021-09-24 23:39:19.441816: I tensorflow/stream_executor/platform/default/dso_loader.cc:49] Successfully opened dynamic library libcusolver.so.10\n",
      "2021-09-24 23:39:19.441834: I tensorflow/stream_executor/platform/default/dso_loader.cc:49] Successfully opened dynamic library libcusparse.so.11\n",
      "2021-09-24 23:39:19.441851: I tensorflow/stream_executor/platform/default/dso_loader.cc:49] Successfully opened dynamic library libcudnn.so.8\n",
      "2021-09-24 23:39:19.441924: I tensorflow/stream_executor/cuda/cuda_gpu_executor.cc:941] successful NUMA node read from SysFS had negative value (-1), but there must be at least one NUMA node, so returning NUMA node zero\n",
      "2021-09-24 23:39:19.442564: I tensorflow/stream_executor/cuda/cuda_gpu_executor.cc:941] successful NUMA node read from SysFS had negative value (-1), but there must be at least one NUMA node, so returning NUMA node zero\n",
      "2021-09-24 23:39:19.443109: I tensorflow/core/common_runtime/gpu/gpu_device.cc:1862] Adding visible gpu devices: 0\n",
      "2021-09-24 23:39:19.444303: I tensorflow/stream_executor/platform/default/dso_loader.cc:49] Successfully opened dynamic library libcudart.so.11.0\n",
      "2021-09-24 23:39:20.842345: I tensorflow/core/common_runtime/gpu/gpu_device.cc:1261] Device interconnect StreamExecutor with strength 1 edge matrix:\n",
      "2021-09-24 23:39:20.842398: I tensorflow/core/common_runtime/gpu/gpu_device.cc:1267]      0 \n",
      "2021-09-24 23:39:20.842409: I tensorflow/core/common_runtime/gpu/gpu_device.cc:1280] 0:   N \n",
      "2021-09-24 23:39:20.845033: I tensorflow/stream_executor/cuda/cuda_gpu_executor.cc:941] successful NUMA node read from SysFS had negative value (-1), but there must be at least one NUMA node, so returning NUMA node zero\n",
      "2021-09-24 23:39:20.845788: I tensorflow/stream_executor/cuda/cuda_gpu_executor.cc:941] successful NUMA node read from SysFS had negative value (-1), but there must be at least one NUMA node, so returning NUMA node zero\n",
      "2021-09-24 23:39:20.846415: I tensorflow/stream_executor/cuda/cuda_gpu_executor.cc:941] successful NUMA node read from SysFS had negative value (-1), but there must be at least one NUMA node, so returning NUMA node zero\n",
      "2021-09-24 23:39:20.846995: I tensorflow/core/common_runtime/gpu/gpu_device.cc:1406] Created TensorFlow device (/job:localhost/replica:0/task:0/device:GPU:0 with 14957 MB memory) -> physical GPU (device: 0, name: Tesla P100-PCIE-16GB, pci bus id: 0000:00:04.0, compute capability: 6.0)\n"
     ]
    },
    {
     "name": "stdout",
     "output_type": "stream",
     "text": [
      "Model: \"model\"\n",
      "_________________________________________________________________\n",
      "Layer (type)                 Output Shape              Param #   \n",
      "=================================================================\n",
      "input_1 (InputLayer)         [(None, 84, 84, 1)]       0         \n",
      "_________________________________________________________________\n",
      "batch_normalization (BatchNo (None, 84, 84, 1)         4         \n",
      "_________________________________________________________________\n",
      "conv2d (Conv2D)              (None, 84, 84, 64)        1664      \n",
      "_________________________________________________________________\n",
      "batch_normalization_1 (Batch (None, 84, 84, 64)        256       \n",
      "_________________________________________________________________\n",
      "conv2d_1 (Conv2D)            (None, 84, 84, 64)        16448     \n",
      "_________________________________________________________________\n",
      "max_pooling2d (MaxPooling2D) (None, 42, 42, 64)        0         \n",
      "_________________________________________________________________\n",
      "dropout (Dropout)            (None, 42, 42, 64)        0         \n",
      "_________________________________________________________________\n",
      "batch_normalization_2 (Batch (None, 42, 42, 64)        256       \n",
      "_________________________________________________________________\n",
      "conv2d_2 (Conv2D)            (None, 42, 42, 128)       204928    \n",
      "_________________________________________________________________\n",
      "batch_normalization_3 (Batch (None, 42, 42, 128)       512       \n",
      "_________________________________________________________________\n",
      "conv2d_3 (Conv2D)            (None, 42, 42, 128)       65664     \n",
      "_________________________________________________________________\n",
      "max_pooling2d_1 (MaxPooling2 (None, 21, 21, 128)       0         \n",
      "_________________________________________________________________\n",
      "dropout_1 (Dropout)          (None, 21, 21, 128)       0         \n",
      "_________________________________________________________________\n",
      "batch_normalization_4 (Batch (None, 21, 21, 128)       512       \n",
      "_________________________________________________________________\n",
      "conv2d_4 (Conv2D)            (None, 21, 21, 256)       131328    \n",
      "_________________________________________________________________\n",
      "batch_normalization_5 (Batch (None, 21, 21, 256)       1024      \n",
      "_________________________________________________________________\n",
      "conv2d_5 (Conv2D)            (None, 21, 21, 256)       262400    \n",
      "_________________________________________________________________\n",
      "max_pooling2d_2 (MaxPooling2 (None, 10, 10, 256)       0         \n",
      "_________________________________________________________________\n",
      "flatten (Flatten)            (None, 25600)             0         \n",
      "_________________________________________________________________\n",
      "batch_normalization_6 (Batch (None, 25600)             102400    \n",
      "_________________________________________________________________\n",
      "dense (Dense)                (None, 1000)              25601000  \n",
      "_________________________________________________________________\n",
      "batch_normalization_7 (Batch (None, 1000)              4000      \n",
      "_________________________________________________________________\n",
      "dense_1 (Dense)              (None, 10)                10010     \n",
      "=================================================================\n",
      "Total params: 26,402,406\n",
      "Trainable params: 26,347,924\n",
      "Non-trainable params: 54,482\n",
      "_________________________________________________________________\n"
     ]
    }
   ],
   "source": [
    "new_model().summary()"
   ]
  },
  {
   "cell_type": "code",
   "execution_count": 25,
   "id": "fb72460f",
   "metadata": {
    "execution": {
     "iopub.execute_input": "2021-09-24T23:39:21.413613Z",
     "iopub.status.busy": "2021-09-24T23:39:21.409723Z",
     "iopub.status.idle": "2021-09-24T23:44:31.655257Z",
     "shell.execute_reply": "2021-09-24T23:44:31.655674Z",
     "shell.execute_reply.started": "2021-09-24T23:32:48.522668Z"
    },
    "papermill": {
     "duration": 310.300026,
     "end_time": "2021-09-24T23:44:31.655892",
     "exception": false,
     "start_time": "2021-09-24T23:39:21.355866",
     "status": "completed"
    },
    "tags": []
   },
   "outputs": [
    {
     "name": "stderr",
     "output_type": "stream",
     "text": [
      "2021-09-24 23:39:21.778308: I tensorflow/compiler/mlir/mlir_graph_optimization_pass.cc:116] None of the MLIR optimization passes are enabled (registered 2)\n",
      "2021-09-24 23:39:21.785408: I tensorflow/core/platform/profile_utils/cpu_utils.cc:112] CPU Frequency: 2000185000 Hz\n"
     ]
    },
    {
     "name": "stdout",
     "output_type": "stream",
     "text": [
      "Epoch 1/100\n"
     ]
    },
    {
     "name": "stderr",
     "output_type": "stream",
     "text": [
      "2021-09-24 23:39:23.163793: I tensorflow/stream_executor/platform/default/dso_loader.cc:49] Successfully opened dynamic library libcublas.so.11\n",
      "2021-09-24 23:39:23.921946: I tensorflow/stream_executor/platform/default/dso_loader.cc:49] Successfully opened dynamic library libcublasLt.so.11\n",
      "2021-09-24 23:39:23.937806: I tensorflow/stream_executor/platform/default/dso_loader.cc:49] Successfully opened dynamic library libcudnn.so.8\n"
     ]
    },
    {
     "name": "stdout",
     "output_type": "stream",
     "text": [
      "128/128 [==============================] - 10s 22ms/step - loss: 4.6770 - accuracy: 0.2536\n",
      "Epoch 2/100\n",
      "128/128 [==============================] - 3s 24ms/step - loss: 2.8237 - accuracy: 0.3364\n",
      "Epoch 3/100\n",
      "128/128 [==============================] - 3s 22ms/step - loss: 2.4787 - accuracy: 0.4080\n",
      "Epoch 4/100\n",
      "128/128 [==============================] - 3s 24ms/step - loss: 2.3172 - accuracy: 0.4508\n",
      "Epoch 5/100\n",
      "128/128 [==============================] - 3s 26ms/step - loss: 2.2612 - accuracy: 0.4383\n",
      "Epoch 6/100\n",
      "128/128 [==============================] - 3s 23ms/step - loss: 2.0952 - accuracy: 0.4920\n",
      "Epoch 7/100\n",
      "128/128 [==============================] - 3s 22ms/step - loss: 2.0942 - accuracy: 0.4874\n",
      "Epoch 8/100\n",
      "128/128 [==============================] - 3s 23ms/step - loss: 2.0103 - accuracy: 0.4975\n",
      "Epoch 9/100\n",
      "128/128 [==============================] - 3s 24ms/step - loss: 1.9919 - accuracy: 0.4936\n",
      "Epoch 10/100\n",
      "128/128 [==============================] - 3s 22ms/step - loss: 1.8990 - accuracy: 0.5259\n",
      "Epoch 11/100\n",
      "128/128 [==============================] - 3s 22ms/step - loss: 1.9171 - accuracy: 0.5184\n",
      "Epoch 12/100\n",
      "128/128 [==============================] - 3s 22ms/step - loss: 1.8946 - accuracy: 0.5224\n",
      "Epoch 13/100\n",
      "128/128 [==============================] - 3s 24ms/step - loss: 1.7409 - accuracy: 0.5704\n",
      "Epoch 14/100\n",
      "128/128 [==============================] - 3s 22ms/step - loss: 1.7161 - accuracy: 0.5620\n",
      "Epoch 15/100\n",
      "128/128 [==============================] - 3s 23ms/step - loss: 1.6811 - accuracy: 0.5617\n",
      "Epoch 16/100\n",
      "128/128 [==============================] - 4s 27ms/step - loss: 1.6215 - accuracy: 0.5922\n",
      "Epoch 17/100\n",
      "128/128 [==============================] - 3s 22ms/step - loss: 1.5340 - accuracy: 0.6007\n",
      "Epoch 18/100\n",
      "128/128 [==============================] - 3s 24ms/step - loss: 1.5097 - accuracy: 0.5986\n",
      "Epoch 19/100\n",
      "128/128 [==============================] - 3s 22ms/step - loss: 1.5556 - accuracy: 0.5952\n",
      "Epoch 20/100\n",
      "128/128 [==============================] - 3s 24ms/step - loss: 1.4900 - accuracy: 0.6128\n",
      "Epoch 21/100\n",
      "128/128 [==============================] - 3s 22ms/step - loss: 1.4903 - accuracy: 0.6025\n",
      "Epoch 22/100\n",
      "128/128 [==============================] - 3s 22ms/step - loss: 1.4618 - accuracy: 0.6120\n",
      "Epoch 23/100\n",
      "128/128 [==============================] - 3s 22ms/step - loss: 1.4172 - accuracy: 0.6093\n",
      "Epoch 24/100\n",
      "128/128 [==============================] - 3s 24ms/step - loss: 1.3888 - accuracy: 0.6093\n",
      "Epoch 25/100\n",
      "128/128 [==============================] - 3s 22ms/step - loss: 1.3284 - accuracy: 0.6388\n",
      "Epoch 26/100\n",
      "128/128 [==============================] - 3s 25ms/step - loss: 1.3126 - accuracy: 0.6544\n",
      "Epoch 27/100\n",
      "128/128 [==============================] - 3s 26ms/step - loss: 1.3353 - accuracy: 0.6328\n",
      "Epoch 28/100\n",
      "128/128 [==============================] - 3s 24ms/step - loss: 1.2319 - accuracy: 0.6755\n",
      "Epoch 29/100\n",
      "128/128 [==============================] - 3s 22ms/step - loss: 1.2169 - accuracy: 0.6667\n",
      "Epoch 30/100\n",
      "128/128 [==============================] - 3s 22ms/step - loss: 1.2327 - accuracy: 0.6709\n",
      "Epoch 31/100\n",
      "128/128 [==============================] - 3s 24ms/step - loss: 1.1611 - accuracy: 0.6877\n",
      "Epoch 32/100\n",
      "128/128 [==============================] - 3s 22ms/step - loss: 1.1511 - accuracy: 0.6906\n",
      "Epoch 33/100\n",
      "128/128 [==============================] - 3s 22ms/step - loss: 1.1275 - accuracy: 0.6950\n",
      "Epoch 34/100\n",
      "128/128 [==============================] - 3s 22ms/step - loss: 1.1227 - accuracy: 0.6932\n",
      "Epoch 35/100\n",
      "128/128 [==============================] - 3s 24ms/step - loss: 1.0919 - accuracy: 0.7058\n",
      "Epoch 36/100\n",
      "128/128 [==============================] - 3s 22ms/step - loss: 1.0763 - accuracy: 0.7124\n",
      "Epoch 37/100\n",
      "128/128 [==============================] - 3s 24ms/step - loss: 1.0232 - accuracy: 0.7441\n",
      "Epoch 38/100\n",
      "128/128 [==============================] - 3s 26ms/step - loss: 1.0092 - accuracy: 0.7350\n",
      "Epoch 39/100\n",
      "128/128 [==============================] - 3s 24ms/step - loss: 0.9633 - accuracy: 0.7447\n",
      "Epoch 40/100\n",
      "128/128 [==============================] - 3s 22ms/step - loss: 0.9292 - accuracy: 0.7570\n",
      "Epoch 41/100\n",
      "128/128 [==============================] - 3s 22ms/step - loss: 0.9534 - accuracy: 0.7484\n",
      "Epoch 42/100\n",
      "128/128 [==============================] - 3s 24ms/step - loss: 0.9511 - accuracy: 0.7569\n",
      "Epoch 43/100\n",
      "128/128 [==============================] - 3s 23ms/step - loss: 0.9296 - accuracy: 0.7490\n",
      "Epoch 44/100\n",
      "128/128 [==============================] - 3s 22ms/step - loss: 0.9200 - accuracy: 0.7649\n",
      "Epoch 45/100\n",
      "128/128 [==============================] - 3s 22ms/step - loss: 0.8883 - accuracy: 0.7669\n",
      "Epoch 46/100\n",
      "128/128 [==============================] - 3s 24ms/step - loss: 0.8467 - accuracy: 0.8004\n",
      "Epoch 47/100\n",
      "128/128 [==============================] - 3s 22ms/step - loss: 0.8601 - accuracy: 0.7800\n",
      "Epoch 48/100\n",
      "128/128 [==============================] - 3s 24ms/step - loss: 0.8311 - accuracy: 0.7934\n",
      "Epoch 49/100\n",
      "128/128 [==============================] - 4s 30ms/step - loss: 0.8466 - accuracy: 0.7826\n",
      "Epoch 50/100\n",
      "128/128 [==============================] - 3s 22ms/step - loss: 0.8423 - accuracy: 0.7977\n",
      "Epoch 51/100\n",
      "128/128 [==============================] - 3s 22ms/step - loss: 0.7864 - accuracy: 0.8165\n",
      "Epoch 52/100\n",
      "128/128 [==============================] - 3s 22ms/step - loss: 0.8358 - accuracy: 0.7839\n",
      "Epoch 53/100\n",
      "128/128 [==============================] - 3s 24ms/step - loss: 0.7872 - accuracy: 0.8126\n",
      "Epoch 54/100\n",
      "128/128 [==============================] - 3s 22ms/step - loss: 0.7398 - accuracy: 0.8310\n",
      "Epoch 55/100\n",
      "128/128 [==============================] - 3s 22ms/step - loss: 0.7596 - accuracy: 0.8201\n",
      "Epoch 56/100\n",
      "128/128 [==============================] - 3s 22ms/step - loss: 0.7694 - accuracy: 0.7998\n",
      "Epoch 57/100\n",
      "128/128 [==============================] - 3s 24ms/step - loss: 0.7528 - accuracy: 0.8184\n",
      "Epoch 58/100\n",
      "128/128 [==============================] - 3s 22ms/step - loss: 0.7248 - accuracy: 0.8217\n",
      "Epoch 59/100\n",
      "128/128 [==============================] - 3s 23ms/step - loss: 0.6754 - accuracy: 0.8583\n",
      "Epoch 60/100\n",
      "128/128 [==============================] - 4s 31ms/step - loss: 0.6820 - accuracy: 0.8417\n",
      "Epoch 61/100\n",
      "128/128 [==============================] - 3s 22ms/step - loss: 0.7195 - accuracy: 0.8286\n",
      "Epoch 62/100\n",
      "128/128 [==============================] - 3s 22ms/step - loss: 0.6729 - accuracy: 0.8476\n",
      "Epoch 63/100\n",
      "128/128 [==============================] - 3s 22ms/step - loss: 0.6684 - accuracy: 0.8487\n",
      "Epoch 64/100\n",
      "128/128 [==============================] - 3s 24ms/step - loss: 0.6820 - accuracy: 0.8356\n",
      "Epoch 65/100\n",
      "128/128 [==============================] - 3s 22ms/step - loss: 0.6647 - accuracy: 0.8497\n",
      "Epoch 66/100\n",
      "128/128 [==============================] - 3s 22ms/step - loss: 0.6411 - accuracy: 0.8624\n",
      "Epoch 67/100\n",
      "128/128 [==============================] - 3s 23ms/step - loss: 0.6420 - accuracy: 0.8462\n",
      "Epoch 68/100\n",
      "128/128 [==============================] - 3s 23ms/step - loss: 0.6317 - accuracy: 0.8602\n",
      "Epoch 69/100\n",
      "128/128 [==============================] - 3s 22ms/step - loss: 0.6229 - accuracy: 0.8559\n",
      "Epoch 70/100\n",
      "128/128 [==============================] - 3s 26ms/step - loss: 0.6198 - accuracy: 0.8615\n",
      "Epoch 71/100\n",
      "128/128 [==============================] - 4s 30ms/step - loss: 0.6388 - accuracy: 0.8651\n",
      "Epoch 72/100\n",
      "128/128 [==============================] - 3s 22ms/step - loss: 0.6361 - accuracy: 0.8530\n",
      "Epoch 73/100\n",
      "128/128 [==============================] - 3s 22ms/step - loss: 0.6151 - accuracy: 0.8607\n",
      "Epoch 74/100\n",
      "128/128 [==============================] - 3s 22ms/step - loss: 0.6355 - accuracy: 0.8506\n",
      "Epoch 75/100\n",
      "128/128 [==============================] - 3s 24ms/step - loss: 0.6059 - accuracy: 0.8824\n",
      "Epoch 76/100\n",
      "128/128 [==============================] - 3s 22ms/step - loss: 0.6298 - accuracy: 0.8600\n",
      "Epoch 77/100\n",
      "128/128 [==============================] - 3s 22ms/step - loss: 0.6033 - accuracy: 0.8681\n",
      "Epoch 78/100\n",
      "128/128 [==============================] - 3s 24ms/step - loss: 0.5900 - accuracy: 0.8789\n",
      "Epoch 79/100\n",
      "128/128 [==============================] - 3s 23ms/step - loss: 0.6345 - accuracy: 0.8626\n",
      "Epoch 80/100\n",
      "128/128 [==============================] - 3s 23ms/step - loss: 0.5999 - accuracy: 0.8661\n",
      "Epoch 81/100\n",
      "128/128 [==============================] - 4s 31ms/step - loss: 0.5715 - accuracy: 0.8731\n",
      "Epoch 82/100\n",
      "128/128 [==============================] - 4s 28ms/step - loss: 0.6109 - accuracy: 0.8587\n",
      "Epoch 83/100\n",
      "128/128 [==============================] - 3s 22ms/step - loss: 0.5674 - accuracy: 0.8785\n",
      "Epoch 84/100\n",
      "128/128 [==============================] - 3s 22ms/step - loss: 0.5624 - accuracy: 0.8873\n",
      "Epoch 85/100\n",
      "128/128 [==============================] - 3s 24ms/step - loss: 0.5717 - accuracy: 0.8782\n",
      "Epoch 86/100\n",
      "128/128 [==============================] - 3s 22ms/step - loss: 0.5660 - accuracy: 0.8683\n",
      "Epoch 87/100\n",
      "128/128 [==============================] - 3s 22ms/step - loss: 0.5711 - accuracy: 0.8800\n",
      "Epoch 88/100\n",
      "128/128 [==============================] - 3s 22ms/step - loss: 0.5886 - accuracy: 0.8700\n",
      "Epoch 89/100\n",
      "128/128 [==============================] - 3s 24ms/step - loss: 0.5640 - accuracy: 0.8815\n",
      "Epoch 90/100\n",
      "128/128 [==============================] - 3s 22ms/step - loss: 0.5697 - accuracy: 0.8737\n",
      "Epoch 91/100\n",
      "128/128 [==============================] - 3s 22ms/step - loss: 0.5951 - accuracy: 0.8690\n",
      "Epoch 92/100\n",
      "128/128 [==============================] - 4s 30ms/step - loss: 0.5613 - accuracy: 0.8855\n",
      "Epoch 93/100\n",
      "128/128 [==============================] - 3s 26ms/step - loss: 0.5443 - accuracy: 0.8991\n",
      "Epoch 94/100\n",
      "128/128 [==============================] - 3s 22ms/step - loss: 0.5274 - accuracy: 0.8966\n",
      "Epoch 95/100\n",
      "128/128 [==============================] - 3s 22ms/step - loss: 0.5627 - accuracy: 0.8895\n",
      "Epoch 96/100\n",
      "128/128 [==============================] - 3s 24ms/step - loss: 0.5372 - accuracy: 0.9008\n",
      "Epoch 97/100\n",
      "128/128 [==============================] - 3s 22ms/step - loss: 0.5457 - accuracy: 0.8835\n",
      "Epoch 98/100\n",
      "128/128 [==============================] - 3s 22ms/step - loss: 0.5523 - accuracy: 0.8756\n",
      "Epoch 99/100\n",
      "128/128 [==============================] - 3s 22ms/step - loss: 0.5446 - accuracy: 0.8899\n",
      "Epoch 100/100\n",
      "128/128 [==============================] - 3s 24ms/step - loss: 0.5501 - accuracy: 0.8956\n"
     ]
    }
   ],
   "source": [
    "# history = new_model().fit(train_generator, epochs=100, callbacks=[LR, es], verbose = 1)\n",
    "history = new_model().fit(datagen.flow(x_train2, y_train, batch_size=16), epochs=100, steps_per_epoch = x_train2.shape[0]//16, callbacks=[LR], verbose = 1 )"
   ]
  },
  {
   "cell_type": "code",
   "execution_count": 26,
   "id": "b9820fba",
   "metadata": {
    "execution": {
     "iopub.execute_input": "2021-09-24T23:44:34.310520Z",
     "iopub.status.busy": "2021-09-24T23:44:34.300396Z",
     "iopub.status.idle": "2021-09-24T23:44:34.677665Z",
     "shell.execute_reply": "2021-09-24T23:44:34.678096Z",
     "shell.execute_reply.started": "2021-09-24T23:37:52.864882Z"
    },
    "papermill": {
     "duration": 1.721772,
     "end_time": "2021-09-24T23:44:34.678267",
     "exception": false,
     "start_time": "2021-09-24T23:44:32.956495",
     "status": "completed"
    },
    "tags": []
   },
   "outputs": [
    {
     "data": {
      "image/png": "[encoded data removed]",
      "text/plain": [
       "<Figure size 432x288 with 2 Axes>"
      ]
     },
     "metadata": {},
     "output_type": "display_data"
    },
    {
     "data": {
      "text/plain": [
       "<Figure size 432x288 with 0 Axes>"
      ]
     },
     "metadata": {},
     "output_type": "display_data"
    }
   ],
   "source": [
    "plt.title('Training loss & accuracy')\n",
    "plt.xlabel('epochs')\n",
    "\n",
    "plt.plot(history.history['loss'])\n",
    "plt.legend(['loss'])\n",
    "plt.twinx().plot(history.history['accuracy'], color=\"orange\")\n",
    "plt.legend(['accuracy'])\n",
    "\n",
    "plt.figure()\n",
    "plt.show()"
   ]
  },
  {
   "cell_type": "markdown",
   "id": "cc4d8e66",
   "metadata": {
    "papermill": {
     "duration": 1.29014,
     "end_time": "2021-09-24T23:44:37.316362",
     "exception": false,
     "start_time": "2021-09-24T23:44:36.026222",
     "status": "completed"
    },
    "tags": []
   },
   "source": [
    "## Submission"
   ]
  },
  {
   "cell_type": "code",
   "execution_count": 27,
   "id": "16ff4979",
   "metadata": {
    "execution": {
     "iopub.execute_input": "2021-09-24T23:44:40.535634Z",
     "iopub.status.busy": "2021-09-24T23:44:40.534598Z",
     "iopub.status.idle": "2021-09-24T23:44:47.545606Z",
     "shell.execute_reply": "2021-09-24T23:44:47.545117Z",
     "shell.execute_reply.started": "2021-09-24T23:38:09.076847Z"
    },
    "papermill": {
     "duration": 8.476287,
     "end_time": "2021-09-24T23:44:47.545756",
     "exception": false,
     "start_time": "2021-09-24T23:44:39.069469",
     "status": "completed"
    },
    "tags": []
   },
   "outputs": [
    {
     "data": {
      "text/html": [
       "<div>\n",
       "<style scoped>\n",
       "    .dataframe tbody tr th:only-of-type {\n",
       "        vertical-align: middle;\n",
       "    }\n",
       "\n",
       "    .dataframe tbody tr th {\n",
       "        vertical-align: top;\n",
       "    }\n",
       "\n",
       "    .dataframe thead th {\n",
       "        text-align: right;\n",
       "    }\n",
       "</style>\n",
       "<table border=\"1\" class=\"dataframe\">\n",
       "  <thead>\n",
       "    <tr style=\"text-align: right;\">\n",
       "      <th></th>\n",
       "      <th>id</th>\n",
       "      <th>digit</th>\n",
       "    </tr>\n",
       "  </thead>\n",
       "  <tbody>\n",
       "    <tr>\n",
       "      <th>0</th>\n",
       "      <td>2049</td>\n",
       "      <td>2</td>\n",
       "    </tr>\n",
       "    <tr>\n",
       "      <th>1</th>\n",
       "      <td>2050</td>\n",
       "      <td>6</td>\n",
       "    </tr>\n",
       "    <tr>\n",
       "      <th>2</th>\n",
       "      <td>2051</td>\n",
       "      <td>6</td>\n",
       "    </tr>\n",
       "    <tr>\n",
       "      <th>3</th>\n",
       "      <td>2052</td>\n",
       "      <td>3</td>\n",
       "    </tr>\n",
       "    <tr>\n",
       "      <th>4</th>\n",
       "      <td>2053</td>\n",
       "      <td>3</td>\n",
       "    </tr>\n",
       "  </tbody>\n",
       "</table>\n",
       "</div>"
      ],
      "text/plain": [
       "     id  digit\n",
       "0  2049      2\n",
       "1  2050      6\n",
       "2  2051      6\n",
       "3  2052      3\n",
       "4  2053      3"
      ]
     },
     "execution_count": 27,
     "metadata": {},
     "output_type": "execute_result"
    }
   ],
   "source": [
    "submission['digit'] = np.argmax(new_model().predict(x_test2), axis=1)\n",
    "# 각 digit에 만든 모델을 적용시켜 값 중 가장 큰 값의 index를 출력 (그게 곧 숫자)\n",
    "submission.head() # 앞의 값 5개 출력"
   ]
  },
  {
   "cell_type": "code",
   "execution_count": 28,
   "id": "0b69bd63",
   "metadata": {
    "execution": {
     "iopub.execute_input": "2021-09-24T23:44:50.227209Z",
     "iopub.status.busy": "2021-09-24T23:44:50.226533Z",
     "iopub.status.idle": "2021-09-24T23:44:50.230187Z",
     "shell.execute_reply": "2021-09-24T23:44:50.230662Z",
     "shell.execute_reply.started": "2021-09-24T23:32:28.393595Z"
    },
    "papermill": {
     "duration": 1.339318,
     "end_time": "2021-09-24T23:44:50.230843",
     "exception": false,
     "start_time": "2021-09-24T23:44:48.891525",
     "status": "completed"
    },
    "tags": []
   },
   "outputs": [],
   "source": [
    "# 세 명이 학습시킨 모델 중 가장 결과가 좋았던 모델의 결과를 사용하여, 최종 결과값을 산출한다.\n",
    "# submission[\"model_1\"] = pd.read_csv(root+'/model1.csv')\n",
    "# submission[\"model_2\"] = pd.read_csv(root+'/model2.csv')\n",
    "# submission[\"model_3\"] = submission['digit']\n",
    "# submission.head()"
   ]
  },
  {
   "cell_type": "code",
   "execution_count": 29,
   "id": "c876d7b3",
   "metadata": {
    "execution": {
     "iopub.execute_input": "2021-09-24T23:44:53.107856Z",
     "iopub.status.busy": "2021-09-24T23:44:53.106950Z",
     "iopub.status.idle": "2021-09-24T23:44:53.109191Z",
     "shell.execute_reply": "2021-09-24T23:44:53.109584Z",
     "shell.execute_reply.started": "2021-09-24T23:32:28.395441Z"
    },
    "papermill": {
     "duration": 1.44159,
     "end_time": "2021-09-24T23:44:53.109725",
     "exception": false,
     "start_time": "2021-09-24T23:44:51.668135",
     "status": "completed"
    },
    "tags": []
   },
   "outputs": [],
   "source": [
    "# from collections import Counter\n",
    "# 3개 중 답이 갈릴 경우 더 우세하다고 판단한 모델로 결과값을 정합니다.\n",
    "# for i in range(len(submission)) :\n",
    "#    predicts = submission.loc[i, ['model_1','model_2','model_3']]\n",
    "#    submission.at[i, \"digit\"] = Counter(predicts).most_common(n=1)[0][0]"
   ]
  },
  {
   "cell_type": "code",
   "execution_count": 30,
   "id": "ea7c32a2",
   "metadata": {
    "execution": {
     "iopub.execute_input": "2021-09-24T23:44:55.693481Z",
     "iopub.status.busy": "2021-09-24T23:44:55.692563Z",
     "iopub.status.idle": "2021-09-24T23:44:55.732203Z",
     "shell.execute_reply": "2021-09-24T23:44:55.731698Z",
     "shell.execute_reply.started": "2021-09-24T23:38:32.604355Z"
    },
    "papermill": {
     "duration": 1.334886,
     "end_time": "2021-09-24T23:44:55.732331",
     "exception": false,
     "start_time": "2021-09-24T23:44:54.397445",
     "status": "completed"
    },
    "tags": []
   },
   "outputs": [],
   "source": [
    "# 최종 결과만 csv 파일 도출\n",
    "# submission = submission[['id', 'digit']]\n",
    "submission.to_csv('final_prediction_x3.csv', index=False)"
   ]
  }
 ],
 "metadata": {
  "kernelspec": {
   "display_name": "Python 3",
   "language": "python",
   "name": "python3"
  },
  "language_info": {
   "codemirror_mode": {
    "name": "ipython",
    "version": 3
   },
   "file_extension": ".py",
   "mimetype": "text/x-python",
   "name": "python",
   "nbconvert_exporter": "python",
   "pygments_lexer": "ipython3",
   "version": "3.7.10"
  },
  "papermill": {
   "default_parameters": {},
   "duration": 371.052347,
   "end_time": "2021-09-24T23:45:00.583518",
   "environment_variables": {},
   "exception": null,
   "input_path": "__notebook__.ipynb",
   "output_path": "__notebook__.ipynb",
   "parameters": {},
   "start_time": "2021-09-24T23:38:49.531171",
   "version": "2.3.3"
  }
 },
 "nbformat": 4,
 "nbformat_minor": 5
}
